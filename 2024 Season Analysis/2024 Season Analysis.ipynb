{
 "cells": [
  {
   "cell_type": "code",
   "execution_count": 56,
   "metadata": {},
   "outputs": [],
   "source": [
    "import pandas as pd\n",
    "import math as mat\n",
    "import matplotlib.pyplot as plt\n",
    "import numpy as np\n",
    "import seaborn as sns\n",
    "import sklearn as skl"
   ]
  },
  {
   "cell_type": "code",
   "execution_count": 57,
   "metadata": {},
   "outputs": [],
   "source": [
    "all_batters = pd.read_csv('SBC2024os.csv', header=1)\n",
    "rhp_batters = pd.read_csv('SBC2024os.csv', header=1)\n",
    "lhp_batters = pd.read_csv('SBC2024os.csv', header=1)\n",
    "starters = pd.read_csv('SBC2024os.csv', header=1)\n",
    "relievers = pd.read_csv('SBC2024os.csv', header=1)\n",
    "\n",
    "\n",
    "\n",
    "\n"
   ]
  },
  {
   "cell_type": "code",
   "execution_count": 58,
   "metadata": {},
   "outputs": [
    {
     "data": {
      "text/plain": [
       "Index(['POS', 'First Name', 'Last Name', 'TM', 'B', 'EXP', 'CON', 'GAP', 'POW',\n",
       "       'EYE', 'K's', 'CON vL', 'GAP vL', 'POW vL', 'EYE vL', 'K vL', 'CON vR',\n",
       "       'GAP vR', 'POW vR', 'EYE vR', 'K vR', 'BFH', 'SPE', 'STE', 'RUN', 'GS',\n",
       "       'PA', 'AB', 'H', '1B', '2B', '3B', 'HR', 'RBI', 'R', 'BB', 'IBB', 'HP',\n",
       "       'SO', 'GDP', 'EBH', 'AVG', 'OBP', 'SLG', 'ISO', 'BABIP', 'wRC+', 'WAR',\n",
       "       'SB', 'CS', 'SB%', 'SLR'],\n",
       "      dtype='object')"
      ]
     },
     "execution_count": 58,
     "metadata": {},
     "output_type": "execute_result"
    }
   ],
   "source": [
    "sbc_2024.columns"
   ]
  },
  {
   "cell_type": "code",
   "execution_count": 59,
   "metadata": {},
   "outputs": [],
   "source": [
    "sbc_2024.columns = sbc_2024.columns.str.strip().str.replace(\"'\", '')"
   ]
  },
  {
   "cell_type": "code",
   "execution_count": 60,
   "metadata": {
    "scrolled": true
   },
   "outputs": [
    {
     "data": {
      "text/plain": [
       "Index(['POS', 'First Name', 'Last Name', 'TM', 'B', 'EXP', 'CON', 'GAP', 'POW',\n",
       "       'EYE', 'Ks', 'CON vL', 'GAP vL', 'POW vL', 'EYE vL', 'K vL', 'CON vR',\n",
       "       'GAP vR', 'POW vR', 'EYE vR', 'K vR', 'BFH', 'SPE', 'STE', 'RUN', 'GS',\n",
       "       'PA', 'AB', 'H', '1B', '2B', '3B', 'HR', 'RBI', 'R', 'BB', 'IBB', 'HP',\n",
       "       'SO', 'GDP', 'EBH', 'AVG', 'OBP', 'SLG', 'ISO', 'BABIP', 'wRC+', 'WAR',\n",
       "       'SB', 'CS', 'SB%', 'SLR'],\n",
       "      dtype='object')"
      ]
     },
     "execution_count": 60,
     "metadata": {},
     "output_type": "execute_result"
    }
   ],
   "source": [
    "sbc_2024.columns"
   ]
  },
  {
   "cell_type": "code",
   "execution_count": 62,
   "metadata": {},
   "outputs": [],
   "source": [
    "batters = sbc_2024.loc[:,['POS', 'First Name', 'Last Name', 'TM', 'B', 'EXP', 'CON', 'GAP', 'POW',\n",
    "       'EYE', 'Ks','BFH', 'SPE', 'STE', 'RUN']]"
   ]
  },
  {
   "cell_type": "code",
   "execution_count": 63,
   "metadata": {},
   "outputs": [],
   "source": [
    "batter_stats = sbc_2024.loc[:,['POS', 'First Name', 'Last Name', 'TM', 'B', 'EXP','GS',\n",
    "       'PA', 'AB', 'H', '1B', '2B', '3B', 'HR', 'RBI', 'R', 'BB', 'IBB', 'HP',\n",
    "       'SO', 'GDP', 'EBH', 'AVG', 'OBP', 'SLG', 'ISO', 'BABIP', 'wRC+', 'WAR',\n",
    "       'SB', 'CS', 'SB%', 'SLR']]"
   ]
  },
  {
   "cell_type": "code",
   "execution_count": 64,
   "metadata": {},
   "outputs": [
    {
     "data": {
      "text/plain": [
       "Index(['POS', 'First Name', 'Last Name', 'TM', 'B', 'EXP', 'CON', 'GAP', 'POW',\n",
       "       'EYE', 'Ks', 'BFH', 'SPE', 'STE', 'RUN'],\n",
       "      dtype='object')"
      ]
     },
     "execution_count": 64,
     "metadata": {},
     "output_type": "execute_result"
    }
   ],
   "source": [
    "batters.columns"
   ]
  },
  {
   "cell_type": "code",
   "execution_count": 65,
   "metadata": {},
   "outputs": [
    {
     "data": {
      "text/html": [
       "<div>\n",
       "<style scoped>\n",
       "    .dataframe tbody tr th:only-of-type {\n",
       "        vertical-align: middle;\n",
       "    }\n",
       "\n",
       "    .dataframe tbody tr th {\n",
       "        vertical-align: top;\n",
       "    }\n",
       "\n",
       "    .dataframe thead th {\n",
       "        text-align: right;\n",
       "    }\n",
       "</style>\n",
       "<table border=\"1\" class=\"dataframe\">\n",
       "  <thead>\n",
       "    <tr style=\"text-align: right;\">\n",
       "      <th></th>\n",
       "      <th>EXP</th>\n",
       "      <th>CON</th>\n",
       "      <th>GAP</th>\n",
       "      <th>POW</th>\n",
       "      <th>EYE</th>\n",
       "      <th>Ks</th>\n",
       "      <th>BFH</th>\n",
       "      <th>SPE</th>\n",
       "      <th>STE</th>\n",
       "      <th>RUN</th>\n",
       "    </tr>\n",
       "  </thead>\n",
       "  <tbody>\n",
       "    <tr>\n",
       "      <th>count</th>\n",
       "      <td>317.000000</td>\n",
       "      <td>317.000000</td>\n",
       "      <td>317.000000</td>\n",
       "      <td>317.000000</td>\n",
       "      <td>317.000000</td>\n",
       "      <td>317.000000</td>\n",
       "      <td>317.000000</td>\n",
       "      <td>317.000000</td>\n",
       "      <td>317.000000</td>\n",
       "      <td>317.000000</td>\n",
       "    </tr>\n",
       "    <tr>\n",
       "      <th>mean</th>\n",
       "      <td>9.665615</td>\n",
       "      <td>12.359621</td>\n",
       "      <td>12.892744</td>\n",
       "      <td>10.864353</td>\n",
       "      <td>11.378549</td>\n",
       "      <td>10.694006</td>\n",
       "      <td>6.069401</td>\n",
       "      <td>11.034700</td>\n",
       "      <td>14.564669</td>\n",
       "      <td>14.779180</td>\n",
       "    </tr>\n",
       "    <tr>\n",
       "      <th>std</th>\n",
       "      <td>2.712229</td>\n",
       "      <td>1.783365</td>\n",
       "      <td>1.979606</td>\n",
       "      <td>3.891392</td>\n",
       "      <td>2.369755</td>\n",
       "      <td>2.737063</td>\n",
       "      <td>3.624142</td>\n",
       "      <td>4.988156</td>\n",
       "      <td>4.716630</td>\n",
       "      <td>4.086309</td>\n",
       "    </tr>\n",
       "    <tr>\n",
       "      <th>min</th>\n",
       "      <td>3.000000</td>\n",
       "      <td>8.000000</td>\n",
       "      <td>7.000000</td>\n",
       "      <td>2.000000</td>\n",
       "      <td>5.000000</td>\n",
       "      <td>3.000000</td>\n",
       "      <td>1.000000</td>\n",
       "      <td>1.000000</td>\n",
       "      <td>1.000000</td>\n",
       "      <td>1.000000</td>\n",
       "    </tr>\n",
       "    <tr>\n",
       "      <th>25%</th>\n",
       "      <td>8.000000</td>\n",
       "      <td>11.000000</td>\n",
       "      <td>12.000000</td>\n",
       "      <td>8.000000</td>\n",
       "      <td>10.000000</td>\n",
       "      <td>9.000000</td>\n",
       "      <td>3.000000</td>\n",
       "      <td>8.000000</td>\n",
       "      <td>12.000000</td>\n",
       "      <td>12.000000</td>\n",
       "    </tr>\n",
       "    <tr>\n",
       "      <th>50%</th>\n",
       "      <td>8.000000</td>\n",
       "      <td>12.000000</td>\n",
       "      <td>13.000000</td>\n",
       "      <td>11.000000</td>\n",
       "      <td>12.000000</td>\n",
       "      <td>11.000000</td>\n",
       "      <td>6.000000</td>\n",
       "      <td>11.000000</td>\n",
       "      <td>16.000000</td>\n",
       "      <td>15.000000</td>\n",
       "    </tr>\n",
       "    <tr>\n",
       "      <th>75%</th>\n",
       "      <td>12.000000</td>\n",
       "      <td>14.000000</td>\n",
       "      <td>14.000000</td>\n",
       "      <td>14.000000</td>\n",
       "      <td>13.000000</td>\n",
       "      <td>12.000000</td>\n",
       "      <td>9.000000</td>\n",
       "      <td>15.000000</td>\n",
       "      <td>18.000000</td>\n",
       "      <td>18.000000</td>\n",
       "    </tr>\n",
       "    <tr>\n",
       "      <th>max</th>\n",
       "      <td>17.000000</td>\n",
       "      <td>20.000000</td>\n",
       "      <td>18.000000</td>\n",
       "      <td>20.000000</td>\n",
       "      <td>20.000000</td>\n",
       "      <td>18.000000</td>\n",
       "      <td>17.000000</td>\n",
       "      <td>20.000000</td>\n",
       "      <td>20.000000</td>\n",
       "      <td>20.000000</td>\n",
       "    </tr>\n",
       "  </tbody>\n",
       "</table>\n",
       "</div>"
      ],
      "text/plain": [
       "              EXP         CON         GAP         POW         EYE          Ks  \\\n",
       "count  317.000000  317.000000  317.000000  317.000000  317.000000  317.000000   \n",
       "mean     9.665615   12.359621   12.892744   10.864353   11.378549   10.694006   \n",
       "std      2.712229    1.783365    1.979606    3.891392    2.369755    2.737063   \n",
       "min      3.000000    8.000000    7.000000    2.000000    5.000000    3.000000   \n",
       "25%      8.000000   11.000000   12.000000    8.000000   10.000000    9.000000   \n",
       "50%      8.000000   12.000000   13.000000   11.000000   12.000000   11.000000   \n",
       "75%     12.000000   14.000000   14.000000   14.000000   13.000000   12.000000   \n",
       "max     17.000000   20.000000   18.000000   20.000000   20.000000   18.000000   \n",
       "\n",
       "              BFH         SPE         STE         RUN  \n",
       "count  317.000000  317.000000  317.000000  317.000000  \n",
       "mean     6.069401   11.034700   14.564669   14.779180  \n",
       "std      3.624142    4.988156    4.716630    4.086309  \n",
       "min      1.000000    1.000000    1.000000    1.000000  \n",
       "25%      3.000000    8.000000   12.000000   12.000000  \n",
       "50%      6.000000   11.000000   16.000000   15.000000  \n",
       "75%      9.000000   15.000000   18.000000   18.000000  \n",
       "max     17.000000   20.000000   20.000000   20.000000  "
      ]
     },
     "execution_count": 65,
     "metadata": {},
     "output_type": "execute_result"
    }
   ],
   "source": [
    "batters.describe()"
   ]
  },
  {
   "cell_type": "code",
   "execution_count": 90,
   "metadata": {},
   "outputs": [],
   "source": [
    "batters_no_ident = batters.drop(['POS', 'First Name', 'Last Name', 'TM', 'B'], axis=1)"
   ]
  },
  {
   "cell_type": "code",
   "execution_count": 107,
   "metadata": {},
   "outputs": [],
   "source": [
    "sns.set(rc={'figure.figsize':(14,8)})"
   ]
  },
  {
   "cell_type": "code",
   "execution_count": 109,
   "metadata": {
    "scrolled": false
   },
   "outputs": [
    {
     "data": {
      "text/plain": [
       "Text(0.5,1,'Boxplots for Attributes')"
      ]
     },
     "execution_count": 109,
     "metadata": {},
     "output_type": "execute_result"
    },
    {
     "data": {
      "image/png": "[encoded data removed]",
      "text/plain": [
       "<Figure size 1008x576 with 1 Axes>"
      ]
     },
     "metadata": {},
     "output_type": "display_data"
    }
   ],
   "source": [
    "sns.boxplot(x =\"variable\", y = \"value\", data=pd.melt(batters_no_ident)).set_title('Boxplots for Attributes')"
   ]
  },
  {
   "cell_type": "code",
   "execution_count": null,
   "metadata": {},
   "outputs": [],
   "source": []
  }
 ],
 "metadata": {
  "kernelspec": {
   "display_name": "Python 3",
   "language": "python",
   "name": "python3"
  },
  "language_info": {
   "codemirror_mode": {
    "name": "ipython",
    "version": 3
   },
   "file_extension": ".py",
   "mimetype": "text/x-python",
   "name": "python",
   "nbconvert_exporter": "python",
   "pygments_lexer": "ipython3",
   "version": "3.6.5"
  }
 },
 "nbformat": 4,
 "nbformat_minor": 2
}
